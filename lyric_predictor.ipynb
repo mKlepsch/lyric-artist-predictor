{
 "cells": [
  {
   "cell_type": "code",
   "execution_count": 106,
   "id": "3d098c86-29a5-4f21-83e7-8bfb14ffea09",
   "metadata": {},
   "outputs": [],
   "source": [
    "import requests\n",
    "import os\n",
    "import time\n",
    "import numpy as np\n",
    "import pandas as pd\n",
    "import seaborn as sns\n",
    "import matplotlib.pyplot as plt\n",
    "from bs4 import BeautifulSoup\n",
    "from tqdm.notebook import tqdm\n",
    "#from tqdm import tqdm \n",
    "from sklearn import metrics  \n",
    "from sklearn.feature_extraction.text import CountVectorizer, TfidfTransformer, TfidfVectorizer\n",
    "from sklearn.feature_selection import SelectKBest, f_classif\n",
    "from sklearn.pipeline import make_pipeline,Pipeline\n",
    "from sklearn.naive_bayes import MultinomialNB\n",
    "from sklearn.linear_model import LogisticRegression\n",
    "from sklearn.model_selection import train_test_split, GridSearchCV\n",
    "from sklearn import set_config\n",
    "set_config(display=\"diagram\")"
   ]
  },
  {
   "cell_type": "code",
   "execution_count": 2,
   "id": "8ffbe87d-fbab-4bb5-a7af-4fc3eb989ad2",
   "metadata": {},
   "outputs": [],
   "source": [
    "#jupyter nbextension enable --py widgetsnbextension\n",
    "#!jupyter labextension list"
   ]
  },
  {
   "cell_type": "markdown",
   "id": "0584296c-ae93-4ca2-8bf0-3b820b9985ce",
   "metadata": {},
   "source": [
    "# Goal"
   ]
  },
  {
   "cell_type": "markdown",
   "id": "091aa229-b476-41ac-8413-1565ffecc826",
   "metadata": {},
   "source": [
    "Build a text classification model on song lyrics. The task is to predict the artist from a piece of text. "
   ]
  },
  {
   "cell_type": "markdown",
   "id": "f4688ce0-cfbd-4e64-9fa1-015cf172a3f6",
   "metadata": {},
   "source": [
    "# Get the lyrics"
   ]
  },
  {
   "cell_type": "code",
   "execution_count": 3,
   "id": "749607e3-a6c3-43ad-b108-f40f54a71248",
   "metadata": {},
   "outputs": [
    {
     "data": {
      "application/vnd.jupyter.widget-view+json": {
       "model_id": "bf74c5e02c874dac975cf1d0d8fbf4aa",
       "version_major": 2,
       "version_minor": 0
      },
      "text/plain": [
       "Artist:   0%|          | 0/2 [00:00<?, ?it/s]"
      ]
     },
     "metadata": {},
     "output_type": "display_data"
    }
   ],
   "source": [
    "#response preperation\n",
    "header = {'User-agent': 'Mozilla/5.0 (X11; Linux i686; rv:2.0b10) Gecko/20100101 Firefox/4.0b10'}\n",
    "#os preperation\n",
    "BASEPATH = os.getcwd()\n",
    "DATAPATH = f'{BASEPATH}/data/'\n",
    "BASEURL = 'https://www.lyrics.com/'\n",
    "\n",
    "artists = ('Katy-Perry','Sia')\n",
    "artists = [artist.lower().replace(\" \",\"-\") for artist in artists]\n",
    "###\n",
    "for artist in tqdm(artists,desc=\"Artist\"):\n",
    "    Artisturl = f'{BASEURL}artist/{artist}/'\n",
    "    Artistpath = f'{DATAPATH}/artist/{artist}'\n",
    "    if not os.path.exists(Artistpath):\n",
    "        os.makedirs(Artistpath)\n",
    "    response = requests.get(Artisturl, headers=header)\n",
    "    with open(f'{Artistpath}/{artist}.html', 'w') as file:\n",
    "        file.write(response.text)\n",
    "    time.sleep(np.random.random())  "
   ]
  },
  {
   "cell_type": "markdown",
   "id": "750e9262-a807-4826-9bd6-56047df97115",
   "metadata": {},
   "source": [
    "scrapping the artist site for links and download the lyric site"
   ]
  },
  {
   "cell_type": "code",
   "execution_count": 4,
   "id": "646e4e3d-bad8-4574-b63f-2493f0fb56ff",
   "metadata": {
    "tags": []
   },
   "outputs": [
    {
     "data": {
      "application/vnd.jupyter.widget-view+json": {
       "model_id": "6efd105801444ff385bc546f9fad331d",
       "version_major": 2,
       "version_minor": 0
      },
      "text/plain": [
       "Artists:   0%|          | 0/2 [00:00<?, ?it/s]"
      ]
     },
     "metadata": {},
     "output_type": "display_data"
    },
    {
     "data": {
      "application/vnd.jupyter.widget-view+json": {
       "model_id": "f0971d67393a4e83b30f25181d9b5cb9",
       "version_major": 2,
       "version_minor": 0
      },
      "text/plain": [
       "Albums of katy-perry:   0%|          | 0/340 [00:00<?, ?it/s]"
      ]
     },
     "metadata": {},
     "output_type": "display_data"
    },
    {
     "data": {
      "application/vnd.jupyter.widget-view+json": {
       "model_id": "22b69712ba6e4bdf8587068374120895",
       "version_major": 2,
       "version_minor": 0
      },
      "text/plain": [
       "Albums of sia:   0%|          | 0/354 [00:00<?, ?it/s]"
      ]
     },
     "metadata": {},
     "output_type": "display_data"
    }
   ],
   "source": [
    "for artist in tqdm(artists,desc=\"Artists\"):\n",
    "    artist_data_DF = pd.DataFrame(columns=['artist', 'Album_title', 'Album_year','Song_title','Song_link','html_path','txt_path','lyric_length','txt_size'])\n",
    "    Artistpath = f'{DATAPATH}/artist/{artist}'\n",
    "    Artist_index_html_file = f'{Artistpath}/{artist}.html'\n",
    "    with open(file=Artist_index_html_file,mode=\"r\") as file:\n",
    "        Artist_index_html_read = file.read()\n",
    "    #print(Artist_index_html_read)    \n",
    "    \n",
    "    Artist_index_html = BeautifulSoup(markup=Artist_index_html_read,features=\"html.parser\")\n",
    "    Artist_index_main_content = Artist_index_html.find(name='div',attrs={\"class\":\"tdata-ext\"})\n",
    "    for Album_entry in tqdm(Artist_index_main_content.find_all(name=\"div\",attrs={\"class\":\"clearfix\"}),desc=f\"Albums of {artist}\"): # table index\n",
    "        Album_info = Album_entry.find(name='h3',attrs={\"class\":\"artist-album-label\"})\n",
    "        if Album_info.find(name='a'):\n",
    "            Album_title = Album_info.find(name='a').get_text()\n",
    "            Album_title = Album_title.replace(\" \",\"_\")\n",
    "        else: Album_title = 'Unknown_Album'\n",
    "        if Album_info.find(name='span',attrs={\"class\":\"year\"}):\n",
    "            Album_year = Album_info.find(name='span',attrs={\"class\":\"year\"}).get_text()\n",
    "            Album_year = Album_year.replace(\"[\",\"\")\n",
    "            Album_year = Album_year.replace(\"]\",\"\")\n",
    "        else: Album_year = '0000'\n",
    "        Album_contents = Album_entry.find(name='td',attrs={'class':'tal qx'})\n",
    "        for Album_content_links in Album_contents.find_all(name='a'):\n",
    "            Song_title = Album_content_links.get_text()\n",
    "            Song_title = Song_title.replace(\" \",\"_\")\n",
    "            Song_link = Album_content_links.get('href')\n",
    "            Song_link = f'{BASEURL}{Song_link}'\n",
    "            \n",
    "            current_entry = pd.DataFrame({'artist':artist,\n",
    "                                'Album_title':Album_title,\n",
    "                                'Album_year':Album_year,\n",
    "                                'Song_title':Song_title,\n",
    "                                'Song_link':Song_link,\n",
    "                                'html_path':'',\n",
    "                                'txt_path':'',\n",
    "                                'lyric_length':'',\n",
    "                                'txt_size':''\n",
    "                               },index=[0])\n",
    "            artist_data_DF = pd.concat([artist_data_DF,current_entry],axis=0,ignore_index=True)\n",
    "    #artist_data_DF['html_path'] = [f\"{BASEPATH}/data/artist/{artist_data_DF.loc[i, 'artist']}/html/{i}.html\" for i in artist_data_DF.index]\n",
    "    artist_data_DF.to_csv(f'{BASEPATH}/data/artist/{artist}/list_of_songs.csv',sep=\",\")"
   ]
  },
  {
   "cell_type": "markdown",
   "id": "d40dbbc3-f235-4d16-a60f-1a0b79f8d330",
   "metadata": {},
   "source": [
    "load list of songs file and download the html files"
   ]
  },
  {
   "cell_type": "raw",
   "id": "5822d099-98ea-449d-b338-9b3af778bd39",
   "metadata": {},
   "source": [
    "for artist in tqdm(artists,desc=\"Artists\"):\n",
    "    Artist_data_DF_file = f'{BASEPATH}/data/artist/{artist}/list_of_songs.csv'\n",
    "    Artist_data_DF = pd.read_csv(Artist_data_DF_file,sep=',')\n",
    "    html_basepath = f'{BASEPATH}/data/artist/{artist}/html/'\n",
    "    if not os.path.exists(html_basepath):\n",
    "            os.makedirs(html_basepath)\n",
    "    for index in tqdm(Artist_data_DF.index,desc=f\"Songs of {artist}\"):\n",
    "        Song_link = Artist_data_DF.loc[index, 'Song_link']\n",
    "        response = requests.get(Song_link, headers=header)\n",
    "        Artist_data_DF.loc[index, 'html_path'] = f\"{BASEPATH}/data/artist/{Artist_data_DF.loc[index, 'artist']}/html/{index}.html\"\n",
    "        html_path = Artist_data_DF.loc[index, 'html_path']\n",
    "        with open(file=html_path, mode='w') as file:\n",
    "            file.write(response.text)\n",
    "        Artist_data_DF.to_csv(f'{BASEPATH}/data/artist/{artist}/list_of_songs.csv',sep=\",\")\n",
    "        time.sleep(np.random.random())"
   ]
  },
  {
   "cell_type": "markdown",
   "id": "66be82f1-eaa5-4ae5-9df0-1c1e772cb5ae",
   "metadata": {},
   "source": [
    "load list of songs file and extract the lyrics"
   ]
  },
  {
   "cell_type": "code",
   "execution_count": 12,
   "id": "e24c771a-3c22-4230-b411-ced18a7b8bef",
   "metadata": {},
   "outputs": [
    {
     "data": {
      "application/vnd.jupyter.widget-view+json": {
       "model_id": "800e5d0078884982b08f3e2fe2378f97",
       "version_major": 2,
       "version_minor": 0
      },
      "text/plain": [
       "Artists:   0%|          | 0/2 [00:00<?, ?it/s]"
      ]
     },
     "metadata": {},
     "output_type": "display_data"
    },
    {
     "data": {
      "application/vnd.jupyter.widget-view+json": {
       "model_id": "12209ddbb60e473bbc56563097fcb7bf",
       "version_major": 2,
       "version_minor": 0
      },
      "text/plain": [
       "Songs of katy-perry:   0%|          | 0/340 [00:00<?, ?it/s]"
      ]
     },
     "metadata": {},
     "output_type": "display_data"
    },
    {
     "data": {
      "application/vnd.jupyter.widget-view+json": {
       "model_id": "1f7a8be25a8b40b4a40b2f14b4babd86",
       "version_major": 2,
       "version_minor": 0
      },
      "text/plain": [
       "Songs of sia:   0%|          | 0/354 [00:00<?, ?it/s]"
      ]
     },
     "metadata": {},
     "output_type": "display_data"
    }
   ],
   "source": [
    "for artist in tqdm(artists,desc=\"Artists\"):\n",
    "    Artist_data_DF_file = f'{BASEPATH}/data/artist/{artist}/list_of_songs.csv'\n",
    "    txt_path_base = f'{BASEPATH}/data/artist/{artist}/txt/'\n",
    "    Artist_data_DF = pd.read_csv(Artist_data_DF_file,sep=',')\n",
    "    if not os.path.exists(txt_path_base):\n",
    "            os.makedirs(txt_path_base)\n",
    "    for index in tqdm(Artist_data_DF.index,desc=f\"Songs of {artist}\"):\n",
    "        html_path = Artist_data_DF.loc[index, 'html_path']\n",
    "        if (pd.isnull(html_path)):\n",
    "            continue\n",
    "        if (not os.path.exists(html_path)):\n",
    "            continue\n",
    "        txt_path = f'{txt_path_base}{index}.txt'\n",
    "        with open(file=html_path,mode=\"r\") as file:\n",
    "            html_file = file.read()\n",
    "        html_file_content = BeautifulSoup(html_file)\n",
    "        lyrics = html_file_content.find('pre', id='lyric-body-text')\n",
    "        if lyrics:\n",
    "            with open(txt_path, 'w') as file:\n",
    "                file.write(lyrics.get_text())\n",
    "            Artist_data_DF.loc[index, 'txt_path'] = txt_path\n",
    "            Artist_data_DF.loc[index, 'lyric_length'] = len(lyrics.get_text())\n",
    "            Artist_data_DF.loc[index, 'txt_size'] = os.path.getsize(txt_path)\n",
    "    Artist_data_DF.to_csv(f'{BASEPATH}/data/artist/{artist}/list_of_songs_filled.csv',sep=\",\",index=False)"
   ]
  },
  {
   "cell_type": "markdown",
   "id": "549e29a1-0ca0-49d4-8c29-b589f976ff06",
   "metadata": {},
   "source": [
    "create a corpus of songs "
   ]
  },
  {
   "cell_type": "code",
   "execution_count": 83,
   "id": "892cc28f-b781-4d30-8aa6-593576620c77",
   "metadata": {
    "tags": []
   },
   "outputs": [
    {
     "data": {
      "application/vnd.jupyter.widget-view+json": {
       "model_id": "77ca265bb537435b8b208a4ca415a80c",
       "version_major": 2,
       "version_minor": 0
      },
      "text/plain": [
       "Artists:   0%|          | 0/2 [00:00<?, ?it/s]"
      ]
     },
     "metadata": {},
     "output_type": "display_data"
    },
    {
     "data": {
      "application/vnd.jupyter.widget-view+json": {
       "model_id": "7787b73a186642a6890caf33b5fb4244",
       "version_major": 2,
       "version_minor": 0
      },
      "text/plain": [
       "Processing Songs of katy-perry :   0%|          | 0/340 [00:00<?, ?it/s]"
      ]
     },
     "metadata": {},
     "output_type": "display_data"
    },
    {
     "data": {
      "application/vnd.jupyter.widget-view+json": {
       "model_id": "d03c3727a9744836acf5830d5f1583b1",
       "version_major": 2,
       "version_minor": 0
      },
      "text/plain": [
       "Processing Songs of sia :   0%|          | 0/354 [00:00<?, ?it/s]"
      ]
     },
     "metadata": {},
     "output_type": "display_data"
    }
   ],
   "source": [
    "for artist in tqdm(artists,desc=\"Artists\"):\n",
    "    Artist_data_DF_file = f'{BASEPATH}/data/artist/{artist}/list_of_songs_filled.csv'\n",
    "    Artist_data_DF = pd.read_csv(Artist_data_DF_file,sep=',')\n",
    "    songs = []\n",
    "    for txt_file in tqdm(Artist_data_DF['txt_path'],desc=f\"Processing Songs of {artist} \"):\n",
    "        if pd.isnull(txt_file): # continue if no file is set\n",
    "            continue \n",
    "        with open(txt_file, 'r') as file:\n",
    "            songs.append(file.read().replace(\"\\n\\n\",\"\\n\"))\n",
    "    flatten_songs = [song.replace(\"\\n\",\" \") for song in songs]\n",
    "    pd.DataFrame({'values':flatten_songs,'label':artist}).to_csv(f'{BASEPATH}/data/artist/{artist}/{artist}_songs.csv',sep=\",\",index=False)\n",
    "    songlines = [line for song in songs for line in song.split(\"\\n\")]\n",
    "    pd.DataFrame({'values':songlines,'label':artist}).to_csv(f'{BASEPATH}/data/artist/{artist}/{artist}_lines.csv',sep=\",\",index=False)"
   ]
  },
  {
   "cell_type": "markdown",
   "id": "d4b2581b-525e-48e9-b3e5-37d8ce1ed339",
   "metadata": {},
   "source": [
    "get the df of the artists"
   ]
  },
  {
   "cell_type": "code",
   "execution_count": 84,
   "id": "d4bf7644-b6e9-4b74-ae78-fc2e8613b815",
   "metadata": {},
   "outputs": [],
   "source": [
    "def get_artist_songs_dfs(artist_A,artist_B):\n",
    "    artist_A_df = pd.read_csv(f'{BASEPATH}/data/artist/{artist_A}/{artist_A}_songs.csv',sep=\",\")\n",
    "    artist_B_df = pd.read_csv(f'{BASEPATH}/data/artist/{artist_B}/{artist_B}_songs.csv',sep=\",\")  \n",
    "    return pd.concat([artist_A_df,artist_B_df],axis=0)\n",
    "\n",
    "def get_artist_songlines_dfs(artist_A,artist_B):\n",
    "    artist_A_df = pd.read_csv(f'{BASEPATH}/data/artist/{artist_A}/{artist_A}_lines.csv',sep=\",\")\n",
    "    artist_B_df = pd.read_csv(f'{BASEPATH}/data/artist/{artist_B}/{artist_B}_lines.csv',sep=\",\")  \n",
    "    return pd.concat([artist_A_df,artist_B_df],axis=0)"
   ]
  },
  {
   "cell_type": "code",
   "execution_count": 163,
   "id": "a6571284-2266-4023-933b-0db779e4ec50",
   "metadata": {},
   "outputs": [],
   "source": [
    "sia_vs_katy_song_df = get_artist_songs_dfs(\"sia\",\"katy-perry\")\n",
    "sia_vs_katy_lines_df = get_artist_songlines_dfs(\"sia\",\"katy-perry\")"
   ]
  },
  {
   "cell_type": "code",
   "execution_count": 164,
   "id": "ba2ffc5f-99c5-48d9-8678-4a8ee49c0cb7",
   "metadata": {},
   "outputs": [
    {
     "data": {
      "text/html": [
       "<div>\n",
       "<style scoped>\n",
       "    .dataframe tbody tr th:only-of-type {\n",
       "        vertical-align: middle;\n",
       "    }\n",
       "\n",
       "    .dataframe tbody tr th {\n",
       "        vertical-align: top;\n",
       "    }\n",
       "\n",
       "    .dataframe thead th {\n",
       "        text-align: right;\n",
       "    }\n",
       "</style>\n",
       "<table border=\"1\" class=\"dataframe\">\n",
       "  <thead>\n",
       "    <tr style=\"text-align: right;\">\n",
       "      <th></th>\n",
       "      <th>values</th>\n",
       "      <th>label</th>\n",
       "    </tr>\n",
       "  </thead>\n",
       "  <tbody>\n",
       "    <tr>\n",
       "      <th>0</th>\n",
       "      <td>Oh, oh One foot in front of the other babe One...</td>\n",
       "      <td>sia</td>\n",
       "    </tr>\n",
       "    <tr>\n",
       "      <th>1</th>\n",
       "      <td>Hey I heard you were a wild one ooh If I took ...</td>\n",
       "      <td>sia</td>\n",
       "    </tr>\n",
       "    <tr>\n",
       "      <th>2</th>\n",
       "      <td>I'm fighting a battle I'm fighting my shadow H...</td>\n",
       "      <td>sia</td>\n",
       "    </tr>\n",
       "    <tr>\n",
       "      <th>3</th>\n",
       "      <td>You shout it out But I can't hear a word you s...</td>\n",
       "      <td>sia</td>\n",
       "    </tr>\n",
       "    <tr>\n",
       "      <th>4</th>\n",
       "      <td>All I need is one One old man is enough Babe, ...</td>\n",
       "      <td>sia</td>\n",
       "    </tr>\n",
       "  </tbody>\n",
       "</table>\n",
       "</div>"
      ],
      "text/plain": [
       "                                              values label\n",
       "0  Oh, oh One foot in front of the other babe One...   sia\n",
       "1  Hey I heard you were a wild one ooh If I took ...   sia\n",
       "2  I'm fighting a battle I'm fighting my shadow H...   sia\n",
       "3  You shout it out But I can't hear a word you s...   sia\n",
       "4  All I need is one One old man is enough Babe, ...   sia"
      ]
     },
     "execution_count": 164,
     "metadata": {},
     "output_type": "execute_result"
    }
   ],
   "source": [
    "sia_vs_katy_song_df.head()"
   ]
  },
  {
   "cell_type": "code",
   "execution_count": 165,
   "id": "60191b45-5533-448b-916f-fea6f62c0f4c",
   "metadata": {},
   "outputs": [
    {
     "data": {
      "text/html": [
       "<div>\n",
       "<style scoped>\n",
       "    .dataframe tbody tr th:only-of-type {\n",
       "        vertical-align: middle;\n",
       "    }\n",
       "\n",
       "    .dataframe tbody tr th {\n",
       "        vertical-align: top;\n",
       "    }\n",
       "\n",
       "    .dataframe thead th {\n",
       "        text-align: right;\n",
       "    }\n",
       "</style>\n",
       "<table border=\"1\" class=\"dataframe\">\n",
       "  <thead>\n",
       "    <tr style=\"text-align: right;\">\n",
       "      <th></th>\n",
       "      <th>values</th>\n",
       "      <th>label</th>\n",
       "    </tr>\n",
       "  </thead>\n",
       "  <tbody>\n",
       "    <tr>\n",
       "      <th>0</th>\n",
       "      <td>Oh, oh</td>\n",
       "      <td>sia</td>\n",
       "    </tr>\n",
       "    <tr>\n",
       "      <th>1</th>\n",
       "      <td>One foot in front of the other babe</td>\n",
       "      <td>sia</td>\n",
       "    </tr>\n",
       "    <tr>\n",
       "      <th>2</th>\n",
       "      <td>One breath leads to another yeah</td>\n",
       "      <td>sia</td>\n",
       "    </tr>\n",
       "    <tr>\n",
       "      <th>3</th>\n",
       "      <td>Just keep moving, oh</td>\n",
       "      <td>sia</td>\n",
       "    </tr>\n",
       "    <tr>\n",
       "      <th>4</th>\n",
       "      <td>Look within for the strength today</td>\n",
       "      <td>sia</td>\n",
       "    </tr>\n",
       "  </tbody>\n",
       "</table>\n",
       "</div>"
      ],
      "text/plain": [
       "                                values label\n",
       "0                               Oh, oh   sia\n",
       "1  One foot in front of the other babe   sia\n",
       "2     One breath leads to another yeah   sia\n",
       "3                 Just keep moving, oh   sia\n",
       "4   Look within for the strength today   sia"
      ]
     },
     "execution_count": 165,
     "metadata": {},
     "output_type": "execute_result"
    }
   ],
   "source": [
    "sia_vs_katy_lines_df.head()"
   ]
  },
  {
   "cell_type": "markdown",
   "id": "61f97aa1-ff83-41c7-a80f-a07a47f4ae61",
   "metadata": {},
   "source": [
    "split the data frame into xtrain "
   ]
  },
  {
   "cell_type": "code",
   "execution_count": 188,
   "id": "a5ffaa1d-58b0-4908-a516-66b885f494bf",
   "metadata": {},
   "outputs": [
    {
     "data": {
      "text/plain": [
       "((23655, 1), (5914, 1), (23655,), (5914,))"
      ]
     },
     "execution_count": 188,
     "metadata": {},
     "output_type": "execute_result"
    }
   ],
   "source": [
    "X,y = sia_vs_katy_lines_df.drop(['label'],axis= 1), sia_vs_katy_lines_df['label']\n",
    "X_train,X_test,y_train,y_test = train_test_split(X,y,test_size=0.2,random_state=100)\n",
    "X_train.shape ,X_test.shape,y_train.shape,y_test.shape"
   ]
  },
  {
   "cell_type": "code",
   "execution_count": 189,
   "id": "220acc85-8f46-4edc-9860-d26c4d8ecad0",
   "metadata": {},
   "outputs": [],
   "source": [
    "model_TFid_NB = Pipeline([('Vectorizer', TfidfVectorizer(stop_words=\"english\",)),\n",
    "                   ('model', MultinomialNB())])\n",
    "model_CountV_NB = Pipeline([('Vectorizer', CountVectorizer(stop_words=\"english\")),\n",
    "                   ('model', MultinomialNB())])\n",
    "model_TFid_LR = Pipeline([('Vectorizer', TfidfVectorizer(stop_words=\"english\")),\n",
    "                   ('model', LogisticRegression())])\n",
    "model_CountV_LR = Pipeline([('Vectorizer', CountVectorizer(stop_words=\"english\")),\n",
    "                   ('model', LogisticRegression(max_iter=1000))])"
   ]
  },
  {
   "cell_type": "code",
   "execution_count": 190,
   "id": "03ecab91-3d93-4b50-93c9-29a1e1f9b8e4",
   "metadata": {},
   "outputs": [],
   "source": [
    "def print_evaluations(ytrue, ypred,label:str, model:str):\n",
    "    \n",
    "    \"\"\"\n",
    "    Function that compares several scores for a given model\n",
    "    \"\"\"\n",
    "    print(f'How does model {model} score:')\n",
    "    print(f'The accuracy of the model is: {round(metrics.accuracy_score(ytrue, ypred), 4)}')\n",
    "    print(f'The precision of the model is: {round(metrics.precision_score(ytrue, ypred,pos_label=label), 4)}')\n",
    "    print(f'The recall of the model is: {round(metrics.recall_score(ytrue, ypred,pos_label=label), 4)}')\n",
    "    print(f'The f1-score of the model is: {round(metrics.f1_score(ytrue, ypred,pos_label=label), 4)}')\n",
    "    metrics.ConfusionMatrixDisplay.from_predictions(ytrue, ypred);"
   ]
  },
  {
   "cell_type": "code",
   "execution_count": 191,
   "id": "cc0de67d-c38c-43b8-b354-7354618501c1",
   "metadata": {},
   "outputs": [
    {
     "name": "stdout",
     "output_type": "stream",
     "text": [
      "How does model Countvectorizer and LogisticRegression on Songlines score:\n",
      "The accuracy of the model is: 0.918\n",
      "The precision of the model is: 0.8975\n",
      "The recall of the model is: 0.963\n",
      "The f1-score of the model is: 0.9291\n"
     ]
    },
    {
     "data": {
      "image/png": "[encoded data removed]",
      "text/plain": [
       "<Figure size 432x288 with 2 Axes>"
      ]
     },
     "metadata": {
      "needs_background": "light"
     },
     "output_type": "display_data"
    },
    {
     "data": {
      "image/png": "[encoded data removed]",
      "text/plain": [
       "<Figure size 1080x720 with 1 Axes>"
      ]
     },
     "metadata": {
      "needs_background": "light"
     },
     "output_type": "display_data"
    }
   ],
   "source": [
    "model_CountV_LR.fit(X_train['values'],y_train)\n",
    "y_pred = model_CountV_LR.predict(X_test['values'])\n",
    "model_CountV_LR.classes_[0]\n",
    "print_evaluations(y_test,y_pred,model_CountV_LR.classes_[0],\"Countvectorizer and LogisticRegression on Songlines\")\n",
    "skb = SelectKBest(f_classif, k=20)\n",
    "skb_data = pd.DataFrame(model_CountV_LR[0].fit_transform(X_train['values']).toarray(),\n",
    "             columns=model_CountV_LR[0].get_feature_names_out())\n",
    "skb.fit(skb_data, y_train)\n",
    "features = sorted(zip(skb.scores_, skb.get_feature_names_out()), reverse=True)\n",
    "plt.figure(figsize=(15,10))\n",
    "plt.bar(x=list(range(20)), height=sorted(skb.scores_, reverse=True)[:20])\n",
    "plt.xticks(list(range(20)), [feat[1] for feat in features][:20], rotation=45, fontsize=15);"
   ]
  },
  {
   "cell_type": "code",
   "execution_count": 196,
   "id": "44ae485d-5bf1-4280-8209-9631394f888e",
   "metadata": {},
   "outputs": [
    {
     "name": "stdout",
     "output_type": "stream",
     "text": [
      "How does model TfidfVectorizer and MultinomialNB on Songlines score:\n",
      "The accuracy of the model is: 0.9565\n",
      "The precision of the model is: 0.9444\n",
      "The recall of the model is: 0.9623\n",
      "The f1-score of the model is: 0.9533\n"
     ]
    },
    {
     "data": {
      "image/png": "[encoded data removed]",
      "text/plain": [
       "<Figure size 432x288 with 2 Axes>"
      ]
     },
     "metadata": {
      "needs_background": "light"
     },
     "output_type": "display_data"
    },
    {
     "data": {
      "image/png": "[encoded data removed]",
      "text/plain": [
       "<Figure size 1080x720 with 1 Axes>"
      ]
     },
     "metadata": {
      "needs_background": "light"
     },
     "output_type": "display_data"
    }
   ],
   "source": [
    "model_TFid_NB.fit(X_train['values'],y_train)\n",
    "y_pred = model_TFid_NB.predict(X_test['values'])\n",
    "model_TFid_NB.classes_[0]\n",
    "print_evaluations(y_test,y_pred,model_TFid_NB.classes_[0],\"TfidfVectorizer and MultinomialNB on Songlines\")\n",
    "skb = SelectKBest(f_classif, k=20)\n",
    "skb_data = pd.DataFrame(model_TFid_NB[0].fit_transform(X_train['values']).toarray(),\n",
    "             columns=model_TFid_NB[0].get_feature_names_out())\n",
    "skb.fit(skb_data, y_train)\n",
    "features = sorted(zip(skb.scores_, skb.get_feature_names_out()), reverse=True)\n",
    "plt.figure(figsize=(15,10))\n",
    "plt.bar(x=list(range(20)), height=sorted(skb.scores_, reverse=True)[:20])\n",
    "plt.xticks(list(range(20)), [feat[1] for feat in features][:20], rotation=45, fontsize=15);"
   ]
  },
  {
   "cell_type": "markdown",
   "id": "fabe06a7-cb27-4669-8e38-bcba58e668c8",
   "metadata": {},
   "source": [
    "Now Complete Songs"
   ]
  },
  {
   "cell_type": "code",
   "execution_count": 193,
   "id": "a0a00a5e-93c9-4c3c-a740-b686a09099fb",
   "metadata": {},
   "outputs": [
    {
     "data": {
      "text/plain": [
       "((460, 1), (115, 1), (460,), (115,))"
      ]
     },
     "execution_count": 193,
     "metadata": {},
     "output_type": "execute_result"
    }
   ],
   "source": [
    "X,y = sia_vs_katy_song_df.drop(['label'],axis= 1), sia_vs_katy_song_df['label']\n",
    "X_train,X_test,y_train,y_test = train_test_split(X,y,test_size=0.2,random_state=100)\n",
    "X_train.shape ,X_test.shape,y_train.shape,y_test.shape"
   ]
  },
  {
   "cell_type": "code",
   "execution_count": 194,
   "id": "78e771cc-14b6-4709-bd0f-82f537c2bb0a",
   "metadata": {},
   "outputs": [
    {
     "name": "stdout",
     "output_type": "stream",
     "text": [
      "How does model Countvectorizer and LogisticRegression on Songs score:\n",
      "The accuracy of the model is: 0.9391\n",
      "The precision of the model is: 0.9259\n",
      "The recall of the model is: 0.9434\n",
      "The f1-score of the model is: 0.9346\n"
     ]
    },
    {
     "data": {
      "image/png": "[encoded data removed]",
      "text/plain": [
       "<Figure size 432x288 with 2 Axes>"
      ]
     },
     "metadata": {
      "needs_background": "light"
     },
     "output_type": "display_data"
    },
    {
     "data": {
      "image/png": "[encoded data removed]",
      "text/plain": [
       "<Figure size 1080x720 with 1 Axes>"
      ]
     },
     "metadata": {
      "needs_background": "light"
     },
     "output_type": "display_data"
    }
   ],
   "source": [
    "model_CountV_LR.fit(X_train['values'],y_train)\n",
    "y_pred = model_CountV_LR.predict(X_test['values'])\n",
    "model_CountV_LR.classes_[0]\n",
    "print_evaluations(y_test,y_pred,model_CountV_LR.classes_[0],\"Countvectorizer and LogisticRegression on Songs\")\n",
    "skb = SelectKBest(f_classif, k=20)\n",
    "skb_data = pd.DataFrame(model_CountV_LR[0].fit_transform(X_train['values']).toarray(),\n",
    "             columns=model_CountV_LR[0].get_feature_names_out())\n",
    "skb.fit(skb_data, y_train)\n",
    "features = sorted(zip(skb.scores_, skb.get_feature_names_out()), reverse=True)\n",
    "plt.figure(figsize=(15,10))\n",
    "plt.bar(x=list(range(20)), height=sorted(skb.scores_, reverse=True)[:20])\n",
    "plt.xticks(list(range(20)), [feat[1] for feat in features][:20], rotation=45, fontsize=15);"
   ]
  },
  {
   "cell_type": "code",
   "execution_count": 187,
   "id": "4a074c3e-2690-4845-9e0d-a3ed2d8ca00c",
   "metadata": {},
   "outputs": [
    {
     "name": "stdout",
     "output_type": "stream",
     "text": [
      "How does model TfidfVectorizer and MultinomialNB on Songs score:\n",
      "The accuracy of the model is: 0.9565\n",
      "The precision of the model is: 0.9444\n",
      "The recall of the model is: 0.9623\n",
      "The f1-score of the model is: 0.9533\n"
     ]
    },
    {
     "data": {
      "image/png": "[encoded data removed]",
      "text/plain": [
       "<Figure size 432x288 with 2 Axes>"
      ]
     },
     "metadata": {
      "needs_background": "light"
     },
     "output_type": "display_data"
    },
    {
     "data": {
      "image/png": "[encoded data removed]",
      "text/plain": [
       "<Figure size 1080x720 with 1 Axes>"
      ]
     },
     "metadata": {
      "needs_background": "light"
     },
     "output_type": "display_data"
    }
   ],
   "source": [
    "model_TFid_NB.fit(X_train['values'],y_train)\n",
    "y_pred = model_TFid_NB.predict(X_test['values'])\n",
    "model_TFid_NB.classes_[0]\n",
    "print_evaluations(y_test,y_pred,model_TFid_NB.classes_[0],\"TfidfVectorizer and MultinomialNB on Songs\")\n",
    "skb = SelectKBest(f_classif, k=20)\n",
    "skb_data = pd.DataFrame(model_TFid_NB[0].fit_transform(X_train['values']).toarray(),\n",
    "             columns=model_TFid_NB[0].get_feature_names_out())\n",
    "skb.fit(skb_data, y_train)\n",
    "features = sorted(zip(skb.scores_, skb.get_feature_names_out()), reverse=True)\n",
    "plt.figure(figsize=(15,10))\n",
    "plt.bar(x=list(range(20)), height=sorted(skb.scores_, reverse=True)[:20])\n",
    "plt.xticks(list(range(20)), [feat[1] for feat in features][:20], rotation=45, fontsize=15);"
   ]
  }
 ],
 "metadata": {
  "kernelspec": {
   "display_name": "Python 3 (ipykernel)",
   "language": "python",
   "name": "python3"
  },
  "language_info": {
   "codemirror_mode": {
    "name": "ipython",
    "version": 3
   },
   "file_extension": ".py",
   "mimetype": "text/x-python",
   "name": "python",
   "nbconvert_exporter": "python",
   "pygments_lexer": "ipython3",
   "version": "3.9.12"
  }
 },
 "nbformat": 4,
 "nbformat_minor": 5
}
